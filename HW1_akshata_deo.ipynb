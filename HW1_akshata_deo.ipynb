{
 "cells": [
  {
   "cell_type": "markdown",
   "metadata": {},
   "source": [
    "## (40%) Collaboraitve Filtering Movie Recommendation"
   ]
  },
  {
   "cell_type": "code",
   "execution_count": 1,
   "metadata": {},
   "outputs": [],
   "source": [
    "#A Dictionary of movie critics and their ratings of a small set of movies\n",
    "critics={'Lisa Rose': {'Lady in the Water': 2.5, 'Snakes on a Plane': 3.5,\n",
    " 'Just My Luck': 3.0, 'Superman Returns': 3.5, 'You, Me and Dupree': 2.5,\n",
    " 'The Night Listener': 3.0},\n",
    "'Gene Seymour': {'Lady in the Water': 3.0, 'Snakes on a Plane': 3.5,\n",
    " 'Just My Luck': 1.5, 'Superman Returns': 5.0, 'The Night Listener': 3.0,\n",
    " 'You, Me and Dupree': 3.5},\n",
    "'Michael Phillips': {'Lady in the Water': 2.5, 'Snakes on a Plane': 3.0,\n",
    " 'Superman Returns': 3.5, 'The Night Listener': 4.0},\n",
    "'Claudia Puig': {'Snakes on a Plane': 3.5, 'Just My Luck': 3.0,\n",
    " 'The Night Listener': 4.5, 'Superman Returns': 4.0,\n",
    " 'You, Me and Dupree': 2.5},\n",
    "'Mick LaSalle': {'Lady in the Water': 3.0, 'Snakes on a Plane': 4.0,\n",
    " 'Just My Luck': 2.0, 'Superman Returns': 3.0, 'The Night Listener': 3.0,\n",
    " 'You, Me and Dupree': 2.0},\n",
    "'Jack Matthews': {'Lady in the Water': 3.0, 'Snakes on a Plane': 4.0,\n",
    " 'The Night Listener': 3.0, 'Superman Returns': 5.0, 'You, Me and Dupree': 3.5},\n",
    "'Toby': {'Snakes on a Plane':4.5,'You, Me and Dupree':1.0,'Superman Returns':4.0}}"
   ]
  },
  {
   "cell_type": "markdown",
   "metadata": {},
   "source": [
    "### Suppose we are given a data set above of each customrs' rating to each movie with sacle 0-5. Stored as python dictinary format. Can you write a function with inputs of rating data and two persons, return their similarity measured by Pearson correlation. You may define and implment other similarity measure also. (10%). "
   ]
  },
  {
   "cell_type": "markdown",
   "metadata": {},
   "source": [
    "#### Solutions"
   ]
  },
  {
   "cell_type": "code",
   "execution_count": 2,
   "metadata": {},
   "outputs": [],
   "source": [
    "from math import sqrt\n",
    "\n",
    "def similarity_PC(critics, key1, key2):\n",
    "    n = 0\n",
    "    sigma_xy = 0\n",
    "    sigma_x = 0\n",
    "    sigma_x2 = 0\n",
    "    sigma_y = 0\n",
    "    sigma_y2 = 0\n",
    "    for value in critics[key1]:\n",
    "        if value in critics[key2]:\n",
    "            n +=1\n",
    "            sigma_x += critics[key1][value]\n",
    "            sigma_x2 += pow(critics[key1][value],2)\n",
    "            sigma_y += critics[key2][value]\n",
    "            sigma_y2 += pow(critics[key2][value],2)\n",
    "            sigma_xy += (critics[key1][value]*critics[key2][value])\n",
    "    if(n==0):\n",
    "        return 0\n",
    "    numerator = n*sigma_xy - sigma_x*sigma_y\n",
    "    denominator = sqrt((n*sigma_x2 - pow(sigma_x,2))*(n*sigma_y2 - pow(sigma_y,2)))\n",
    "    r = numerator/denominator\n",
    "    return r"
   ]
  },
  {
   "cell_type": "markdown",
   "metadata": {},
   "source": [
    "### Given a person, say A, could you write a function to return top n persons most similar to A (exclude A) (5%)? \n",
    "### Same dataset as above."
   ]
  },
  {
   "cell_type": "markdown",
   "metadata": {},
   "source": [
    "#### Solutions"
   ]
  },
  {
   "cell_type": "code",
   "execution_count": 3,
   "metadata": {},
   "outputs": [],
   "source": [
    "def top_n_similar_items1(critics, target_key, n):\n",
    "    priority = []\n",
    "    temp = []\n",
    "    for key in critics:\n",
    "        if(key == target_key):\n",
    "            continue\n",
    "        r = similarity_PC(critics, target_key, key)\n",
    "        temp.append(key)\n",
    "        temp.append(r)\n",
    "        priority.append(temp)\n",
    "    return priority[0:n]"
   ]
  },
  {
   "cell_type": "markdown",
   "metadata": {},
   "source": [
    "### Given a person, say A, could you write a function to recommend those unseen movies? (10%)"
   ]
  },
  {
   "cell_type": "markdown",
   "metadata": {},
   "source": [
    "#### Solutions"
   ]
  },
  {
   "cell_type": "code",
   "execution_count": 4,
   "metadata": {},
   "outputs": [],
   "source": [
    "def recommended_items1(critics, target_key):\n",
    "    numerator = {}\n",
    "    denominator = {}\n",
    "    priority = {}\n",
    "    for key in critics:\n",
    "        if(key == target_key):\n",
    "            continue\n",
    "        r = similarity_PC(critics, target_key, key)\n",
    "        if(r<0):\n",
    "            continue\n",
    "        for value in critics[key]:\n",
    "            if value not in critics[target_key]:\n",
    "                numerator.setdefault(value,0)\n",
    "                numerator[value] += critics[key][value]*r\n",
    "                denominator.setdefault(value,0)\n",
    "                denominator[value] += r\n",
    "    for key in numerator:\n",
    "        a = (numerator[key]/denominator[key])\n",
    "        priority[key] = a\n",
    "    return priority"
   ]
  },
  {
   "cell_type": "markdown",
   "metadata": {},
   "source": [
    "### Let's using another approach, can you write a function to return top n most similair movies for a given movie? (5%) "
   ]
  },
  {
   "cell_type": "markdown",
   "metadata": {},
   "source": [
    "#### Solutions"
   ]
  },
  {
   "cell_type": "code",
   "execution_count": 5,
   "metadata": {},
   "outputs": [],
   "source": [
    "def convert_dict(critics):\n",
    "    # this function converts keys into values and vice-versa\n",
    "    converted = {}\n",
    "    for key in critics:\n",
    "        for value in critics[key]:\n",
    "            converted.setdefault(value, {})\n",
    "            converted[value][key] = critics[key][value]\n",
    "    return converted\n",
    "\n",
    "def top_n_similar_items2(critics, x, n):\n",
    "    # x is the given movie\n",
    "    converted = convert_dict(critics)\n",
    "    priority = top_n_similar_items1(converted, x, n)\n",
    "    return priority"
   ]
  },
  {
   "cell_type": "markdown",
   "metadata": {},
   "source": [
    "### Given a movie, say B, could you write a function to recommend those peoples who have not seen this movies but they may rank this movie with high score? For example, who are those two persons who will rate \"Just My Luck\" high but they never seen this movie before? (10%)"
   ]
  },
  {
   "cell_type": "markdown",
   "metadata": {},
   "source": [
    "#### Solutions"
   ]
  },
  {
   "cell_type": "code",
   "execution_count": 6,
   "metadata": {},
   "outputs": [],
   "source": [
    "def recommended_items2(critics, x):\n",
    "    # x is the given movie\n",
    "    converted = convert_dict(critics)\n",
    "    priority = recommended_items1(converted, x)\n",
    "    return priority"
   ]
  },
  {
   "cell_type": "markdown",
   "metadata": {},
   "source": [
    "### (20%) Data Preparation"
   ]
  },
  {
   "cell_type": "markdown",
   "metadata": {},
   "source": [
    "### 1. Data quality can be assessed in terms of accuracy, completeness, and consistency. What other factors are also important to data quality (5%)? "
   ]
  },
  {
   "cell_type": "markdown",
   "metadata": {},
   "source": [
    "#### Solutions\n"
   ]
  },
  {
   "cell_type": "code",
   "execution_count": 7,
   "metadata": {},
   "outputs": [
    {
     "data": {
      "text/plain": [
       "'\\nRelevance, Accessibility, Clarity and Timeliness are some factors which are as important as Accuracy, completeness and\\nconsistency when it comes to the evaluation of Data Quality.\\n'"
      ]
     },
     "execution_count": 7,
     "metadata": {},
     "output_type": "execute_result"
    }
   ],
   "source": [
    "\"\"\"\n",
    "Relevance, Accessibility, Clarity and Timeliness are some factors which are as important as Accuracy, completeness and\n",
    "consistency when it comes to the evaluation of Data Quality.\n",
    "\"\"\""
   ]
  },
  {
   "cell_type": "markdown",
   "metadata": {},
   "source": [
    "### 2.  Suppose that the data for analysis includes the attribute age. The age values for the data tuples are (in increasing order) 13, 15, 16, 16, 19, 20, 20, 21, 22, 22, 25, 25, 25, 25, 30, 33, 33, 35, 35, 35, 35, 36, 40, 45, 46, 52, 70  (10%).\n",
    "\n",
    "(a) What is the mean of the data? What is the median?\n",
    "\n",
    "(b) What is the mode of the data? Comment on the data's modality (i.e., bimodal, trimodal, etc.).\n",
    "\n",
    "(c) What is the midrange of the data?\n",
    "\n",
    "(d) Can you find (roughly) the first quartile (Q1) and the third uartile (Q3) of the data? \n",
    "\n",
    "(e) Give the five-number summary, minimum, Q1, median, Q3, maximum, of the data.\n",
    "\n",
    "(f) Show a boxplot of the data from (e).\n",
    "\n",
    "(g) How is a quantile-quantile plot different from a quantile plot? (The quantile-quantile (q-q) plot is a graphical technique for determining if two data sets come from populations with a common distribution.  A q-q plot is a plot of the quantiles of the first data set against the quantiles of the second data set.)"
   ]
  },
  {
   "cell_type": "markdown",
   "metadata": {},
   "source": [
    "#### Solution\n"
   ]
  },
  {
   "cell_type": "code",
   "execution_count": 9,
   "metadata": {},
   "outputs": [
    {
     "data": {
      "text/plain": [
       "'\\n(g). As given, The quantile-quantile (q-q) plot is a graphical technique for determining if two data sets come from populations\\nwith a common distribution. A q-q plot is a plot of the quantiles of the first data set against the quantiles of the second\\ndata set.\\nWhereas, Normal quantile plots are a way of looking at a data set to see if it seems reasonable that it may be a sample from a\\nnormally distributed population or procedure. Its basic idea is to compare the data values with the values one would predict\\nfor a standard normal distribution.\\n'"
      ]
     },
     "execution_count": 9,
     "metadata": {},
     "output_type": "execute_result"
    },
    {
     "data": {
      "image/png": "[encoded data removed]",
      "text/plain": [
       "<Figure size 432x288 with 1 Axes>"
      ]
     },
     "metadata": {
      "needs_background": "light"
     },
     "output_type": "display_data"
    }
   ],
   "source": [
    "\"\"\"(a). mean = (sum of all the age values)/(Number of data)\n",
    "          = 807/27 = 30 (approx.)\n",
    "    median = middle value of the ordered list = 25\n",
    "    \n",
    "(b). Mode = value occurs with highest frequency = 25 and 35\n",
    "     This dataset has 2 values which has same highest frequency that is why this dataset is Bimodal.\n",
    "    \n",
    "(c). midrange = (smallest value + largest value)/2 = (13+70)/2\n",
    "              = 41.5\n",
    "    \n",
    "(d). First quartile(Q1) = 25th percentile = 20\n",
    "     Third quartile(Q3) = 75th percentile = 35\n",
    "    \n",
    "(e). The five number summary:\n",
    "     (minimum, Q1, median, Q3, maximum) = (13, 20, 25, 35, 70)\"\"\"\n",
    "        \n",
    "#(f). box plot of the data\n",
    "\n",
    "import numpy as np\n",
    "import matplotlib.pyplot as plt\n",
    "\n",
    "data = np.concatenate(([13], [20], [25], [35], [70]))\n",
    "x,y = plt.subplots()\n",
    "y.set_title('boxplot of the data')\n",
    "y.boxplot(data)\n",
    "\n",
    "\"\"\"\n",
    "(g). As given, The quantile-quantile (q-q) plot is a graphical technique for determining if two data sets come from populations\n",
    "with a common distribution. A q-q plot is a plot of the quantiles of the first data set against the quantiles of the second\n",
    "data set.\n",
    "Whereas, Normal quantile plots are a way of looking at a data set to see if it seems reasonable that it may be a sample from a\n",
    "normally distributed population or procedure. Its basic idea is to compare the data values with the values one would predict\n",
    "for a standard normal distribution.\n",
    "\"\"\""
   ]
  },
  {
   "cell_type": "markdown",
   "metadata": {},
   "source": [
    "### 3. In practical data, tuples with missing values for some attributes are a common occurrence. Describe various methods for handling this problem (5%) ."
   ]
  },
  {
   "cell_type": "markdown",
   "metadata": {},
   "source": [
    "#### Solutions\n"
   ]
  },
  {
   "cell_type": "code",
   "execution_count": 10,
   "metadata": {},
   "outputs": [
    {
     "data": {
      "text/plain": [
       "'\\nChoosing the right method depends on the problem domain, data domain and our goal for data mining process. Following are some\\nmethods which can be used to deal this problem-\\n1). If we have huge dataset, and some values are missing then ignore the data row. \\n2). Use a global constant to fill in for missing values like unknown, N/A etc.\\n3). If data is not huge, then use attribute mean for the missing values\\n4). If particular column has different classes like rich and poor. Use attribute mean for all samples belonging to the same\\nclass. For example missing value belongs to rich class, take mean of all the values that belongs to rich class only.\\n5). Use a data mining algorithm to predict the most probable value\\n'"
      ]
     },
     "execution_count": 10,
     "metadata": {},
     "output_type": "execute_result"
    }
   ],
   "source": [
    "\"\"\"\n",
    "Choosing the right method depends on the problem domain, data domain and our goal for data mining process. Following are some\n",
    "methods which can be used to deal this problem-\n",
    "1). If we have huge dataset, and some values are missing then ignore the data row. \n",
    "2). Use a global constant to fill in for missing values like unknown, N/A etc.\n",
    "3). If data is not huge, then use attribute mean for the missing values\n",
    "4). If particular column has different classes like rich and poor. Use attribute mean for all samples belonging to the same\n",
    "class. For example missing value belongs to rich class, take mean of all the values that belongs to rich class only.\n",
    "5). Use a data mining algorithm to predict the most probable value\n",
    "\"\"\""
   ]
  },
  {
   "cell_type": "markdown",
   "metadata": {},
   "source": [
    "## (30%) How to Acquire & Refine the Data\n"
   ]
  },
  {
   "cell_type": "markdown",
   "metadata": {},
   "source": [
    "## Items, Users, Signal\n",
    "\n",
    "- **Items**: Objects to be recommended\n",
    "- **Users**: Target of the recommendation\n",
    "- **Signal**: Explicit or Implicit feedback between Items and users\n",
    "\n",
    "In our context\n",
    "- Items are **stories** posted on HN\n",
    "- Users are **users** commenting or posting stories\n",
    "- Signal are **comments** on the stories by the user signalling interest"
   ]
  },
  {
   "cell_type": "markdown",
   "metadata": {},
   "source": [
    "## Source of Data \n",
    "\n",
    "Lets see the sources for getting historical information posted on HackerNews\n",
    "\n",
    "- **HackerNews API** - YCombinator provides an official hackernew api through Firebase. This is a near real-time database and provides both an *items* (stories and comments) as well as an *users* api.  It is available at https://github.com/HackerNews/API\n",
    "\n",
    "- **BigQuery** : Google Big Query has a daily updated HackerNews public dataset available (from 2006 to date). It only has *items* information. It is available at https://bigquery.cloud.google.com/table/bigquery-public-data:hacker_news.full"
   ]
  },
  {
   "cell_type": "markdown",
   "metadata": {},
   "source": [
    "## Items (Stories) \n",
    "\n",
    "The schema for the Big Query table is\n",
    "\n",
    "| Field       | Type      | Description                           |\n",
    "|:------------|----------:|:--------------------------------------|\n",
    "| by          | STRING    | The username of the item's author.    |\n",
    "| score       | INTEGER   | Story score                           |\n",
    "| time        | INTEGER   | Unix time                             |\n",
    "| timestamp   | TIMESTAMP | Timestamp for the unix time           |\n",
    "| title       | STRING    | Story title                           |\n",
    "| type        | STRING    | Type of details (comment, story, ...) |\n",
    "| url         | STRING    | Story url                             |\n",
    "| text        | STRING    | Story or comment text                 |\n",
    "| parent      | INTEGER   | Parent comment ID                     |\n",
    "| deleted     | BOOLEAN   | Is deleted?                           |\n",
    "| dead        | BOOLEAN   | Is dead?                              |\n",
    "| descendants | INTEGER   | Number of story or poll descendants   |\n",
    "| id          | INTEGER   | The item's unique id.                 |\n",
    "| ranking     | INTEGER   | Comment ranking                       |\n",
    "\n",
    "\n",
    "- Get all the stories posted on HackerNews in **2017 (till date)**. \n",
    "- To ensure a relevant set, we will limit the stories which have atleast have **score of 5 points or more** on them. \n",
    "\n",
    "This dataset is available in `stories2017score5.gzip`"
   ]
  },
  {
   "cell_type": "markdown",
   "metadata": {},
   "source": [
    "### Could you read file stories2017score5.csv.gzip by Python pandas package and plot histogram of scores(10%) "
   ]
  },
  {
   "cell_type": "markdown",
   "metadata": {},
   "source": [
    "#### Solutions"
   ]
  },
  {
   "cell_type": "code",
   "execution_count": 11,
   "metadata": {},
   "outputs": [
    {
     "data": {
      "text/plain": [
       "(56757, 14)"
      ]
     },
     "execution_count": 11,
     "metadata": {},
     "output_type": "execute_result"
    }
   ],
   "source": [
    "import numpy as np\n",
    "import pandas as pd\n",
    "import matplotlib.pyplot as plt\n",
    "%matplotlib inline\n",
    "\n",
    "data_frame = pd.read_csv('C:/Akshata/Courses/summer19/large_scale_analytics/stories2017score5.csv.gzip', compression='gzip', \n",
    "                         header=0, sep=',', quotechar='\"')\n",
    "data_frame.shape"
   ]
  },
  {
   "cell_type": "code",
   "execution_count": 12,
   "metadata": {},
   "outputs": [
    {
     "data": {
      "text/html": [
       "<div>\n",
       "<style scoped>\n",
       "    .dataframe tbody tr th:only-of-type {\n",
       "        vertical-align: middle;\n",
       "    }\n",
       "\n",
       "    .dataframe tbody tr th {\n",
       "        vertical-align: top;\n",
       "    }\n",
       "\n",
       "    .dataframe thead th {\n",
       "        text-align: right;\n",
       "    }\n",
       "</style>\n",
       "<table border=\"1\" class=\"dataframe\">\n",
       "  <thead>\n",
       "    <tr style=\"text-align: right;\">\n",
       "      <th></th>\n",
       "      <th>by</th>\n",
       "      <th>score</th>\n",
       "      <th>time</th>\n",
       "      <th>timestamp</th>\n",
       "      <th>title</th>\n",
       "      <th>type</th>\n",
       "      <th>url</th>\n",
       "      <th>text</th>\n",
       "      <th>parent</th>\n",
       "      <th>deleted</th>\n",
       "      <th>dead</th>\n",
       "      <th>descendants</th>\n",
       "      <th>id</th>\n",
       "      <th>ranking</th>\n",
       "    </tr>\n",
       "  </thead>\n",
       "  <tbody>\n",
       "    <tr>\n",
       "      <th>0</th>\n",
       "      <td>edsouza</td>\n",
       "      <td>5</td>\n",
       "      <td>1510895219</td>\n",
       "      <td>2017-11-17 05:06:59 UTC</td>\n",
       "      <td>Meet the Tesla Semitruck</td>\n",
       "      <td>story</td>\n",
       "      <td>https://www.wired.com/story/tesla-truck-revealed/</td>\n",
       "      <td>NaN</td>\n",
       "      <td>NaN</td>\n",
       "      <td>NaN</td>\n",
       "      <td>True</td>\n",
       "      <td>NaN</td>\n",
       "      <td>15719098</td>\n",
       "      <td>NaN</td>\n",
       "    </tr>\n",
       "    <tr>\n",
       "      <th>1</th>\n",
       "      <td>mathchick</td>\n",
       "      <td>5</td>\n",
       "      <td>1495226520</td>\n",
       "      <td>2017-05-19 20:42:00 UTC</td>\n",
       "      <td>Raising Rebel Girls</td>\n",
       "      <td>story</td>\n",
       "      <td>https://code.likeagirl.io/raising-rebel-girls-...</td>\n",
       "      <td>NaN</td>\n",
       "      <td>NaN</td>\n",
       "      <td>NaN</td>\n",
       "      <td>True</td>\n",
       "      <td>NaN</td>\n",
       "      <td>14379186</td>\n",
       "      <td>NaN</td>\n",
       "    </tr>\n",
       "    <tr>\n",
       "      <th>2</th>\n",
       "      <td>jscholes</td>\n",
       "      <td>5</td>\n",
       "      <td>1498940583</td>\n",
       "      <td>2017-07-01 20:23:03 UTC</td>\n",
       "      <td>Woman accidentally kills her boyfriend in atte...</td>\n",
       "      <td>story</td>\n",
       "      <td>https://arstechnica.com/tech-policy/2017/06/in...</td>\n",
       "      <td>NaN</td>\n",
       "      <td>NaN</td>\n",
       "      <td>NaN</td>\n",
       "      <td>True</td>\n",
       "      <td>NaN</td>\n",
       "      <td>14678802</td>\n",
       "      <td>NaN</td>\n",
       "    </tr>\n",
       "    <tr>\n",
       "      <th>3</th>\n",
       "      <td>huangc10</td>\n",
       "      <td>5</td>\n",
       "      <td>1510186454</td>\n",
       "      <td>2017-11-09 00:14:14 UTC</td>\n",
       "      <td>Coinbase is Down</td>\n",
       "      <td>story</td>\n",
       "      <td>https://www.coinbase.com/</td>\n",
       "      <td>NaN</td>\n",
       "      <td>NaN</td>\n",
       "      <td>NaN</td>\n",
       "      <td>True</td>\n",
       "      <td>NaN</td>\n",
       "      <td>15658508</td>\n",
       "      <td>NaN</td>\n",
       "    </tr>\n",
       "    <tr>\n",
       "      <th>4</th>\n",
       "      <td>calebgarling</td>\n",
       "      <td>5</td>\n",
       "      <td>1513012293</td>\n",
       "      <td>2017-12-11 17:11:33 UTC</td>\n",
       "      <td>Was Donald Trump a Robot?</td>\n",
       "      <td>story</td>\n",
       "      <td>https://shorterletter.com/was-donald-trump-a-r...</td>\n",
       "      <td>NaN</td>\n",
       "      <td>NaN</td>\n",
       "      <td>NaN</td>\n",
       "      <td>True</td>\n",
       "      <td>NaN</td>\n",
       "      <td>15898391</td>\n",
       "      <td>NaN</td>\n",
       "    </tr>\n",
       "  </tbody>\n",
       "</table>\n",
       "</div>"
      ],
      "text/plain": [
       "             by  score        time                timestamp  \\\n",
       "0       edsouza      5  1510895219  2017-11-17 05:06:59 UTC   \n",
       "1     mathchick      5  1495226520  2017-05-19 20:42:00 UTC   \n",
       "2      jscholes      5  1498940583  2017-07-01 20:23:03 UTC   \n",
       "3      huangc10      5  1510186454  2017-11-09 00:14:14 UTC   \n",
       "4  calebgarling      5  1513012293  2017-12-11 17:11:33 UTC   \n",
       "\n",
       "                                               title   type  \\\n",
       "0                           Meet the Tesla Semitruck  story   \n",
       "1                                Raising Rebel Girls  story   \n",
       "2  Woman accidentally kills her boyfriend in atte...  story   \n",
       "3                                   Coinbase is Down  story   \n",
       "4                          Was Donald Trump a Robot?  story   \n",
       "\n",
       "                                                 url text  parent  deleted  \\\n",
       "0  https://www.wired.com/story/tesla-truck-revealed/  NaN     NaN      NaN   \n",
       "1  https://code.likeagirl.io/raising-rebel-girls-...  NaN     NaN      NaN   \n",
       "2  https://arstechnica.com/tech-policy/2017/06/in...  NaN     NaN      NaN   \n",
       "3                          https://www.coinbase.com/  NaN     NaN      NaN   \n",
       "4  https://shorterletter.com/was-donald-trump-a-r...  NaN     NaN      NaN   \n",
       "\n",
       "   dead  descendants        id  ranking  \n",
       "0  True          NaN  15719098      NaN  \n",
       "1  True          NaN  14379186      NaN  \n",
       "2  True          NaN  14678802      NaN  \n",
       "3  True          NaN  15658508      NaN  \n",
       "4  True          NaN  15898391      NaN  "
      ]
     },
     "execution_count": 12,
     "metadata": {},
     "output_type": "execute_result"
    }
   ],
   "source": [
    "data_frame.head()"
   ]
  },
  {
   "cell_type": "code",
   "execution_count": 13,
   "metadata": {},
   "outputs": [
    {
     "data": {
      "text/plain": [
       "<matplotlib.axes._subplots.AxesSubplot at 0x152968b6a90>"
      ]
     },
     "execution_count": 13,
     "metadata": {},
     "output_type": "execute_result"
    },
    {
     "data": {
      "image/png": "[encoded data removed]",
      "text/plain": [
       "<Figure size 432x288 with 1 Axes>"
      ]
     },
     "metadata": {
      "needs_background": "light"
     },
     "output_type": "display_data"
    }
   ],
   "source": [
    "np.log(data_frame.score).hist()"
   ]
  },
  {
   "cell_type": "markdown",
   "metadata": {},
   "source": [
    "### Most Popular Stories (5%)\n",
    "\n",
    "For this exercise:\n",
    "- Let us choose the most popular stories with a score > 500 over the last year\n",
    "- Lets keep the columns - user (by), userId (id), score (score), title (title)\n"
   ]
  },
  {
   "cell_type": "markdown",
   "metadata": {},
   "source": [
    "#### Solutions"
   ]
  },
  {
   "cell_type": "code",
   "execution_count": 14,
   "metadata": {},
   "outputs": [
    {
     "data": {
      "text/html": [
       "<div>\n",
       "<style scoped>\n",
       "    .dataframe tbody tr th:only-of-type {\n",
       "        vertical-align: middle;\n",
       "    }\n",
       "\n",
       "    .dataframe tbody tr th {\n",
       "        vertical-align: top;\n",
       "    }\n",
       "\n",
       "    .dataframe thead th {\n",
       "        text-align: right;\n",
       "    }\n",
       "</style>\n",
       "<table border=\"1\" class=\"dataframe\">\n",
       "  <thead>\n",
       "    <tr style=\"text-align: right;\">\n",
       "      <th></th>\n",
       "      <th>by</th>\n",
       "      <th>id</th>\n",
       "      <th>score</th>\n",
       "      <th>title</th>\n",
       "    </tr>\n",
       "  </thead>\n",
       "  <tbody>\n",
       "    <tr>\n",
       "      <th>1908</th>\n",
       "      <td>appoets</td>\n",
       "      <td>14274033</td>\n",
       "      <td>503</td>\n",
       "      <td>Uber is valued at $70B, you can get it at $999</td>\n",
       "    </tr>\n",
       "    <tr>\n",
       "      <th>15284</th>\n",
       "      <td>djyaz1200</td>\n",
       "      <td>14107522</td>\n",
       "      <td>547</td>\n",
       "      <td>Jeff Bezos’ Annual Letter</td>\n",
       "    </tr>\n",
       "    <tr>\n",
       "      <th>15291</th>\n",
       "      <td>SimplyUseless</td>\n",
       "      <td>13647190</td>\n",
       "      <td>671</td>\n",
       "      <td>India has banned disposable plastic in Delhi</td>\n",
       "    </tr>\n",
       "    <tr>\n",
       "      <th>15296</th>\n",
       "      <td>kungfudoi</td>\n",
       "      <td>13309610</td>\n",
       "      <td>511</td>\n",
       "      <td>Startup Puts Everything You Need for a Two-Acr...</td>\n",
       "    </tr>\n",
       "    <tr>\n",
       "      <th>15297</th>\n",
       "      <td>dantiberian</td>\n",
       "      <td>13860890</td>\n",
       "      <td>1089</td>\n",
       "      <td>The Uber Bombshell About to Drop</td>\n",
       "    </tr>\n",
       "  </tbody>\n",
       "</table>\n",
       "</div>"
      ],
      "text/plain": [
       "                  by        id  score  \\\n",
       "1908         appoets  14274033    503   \n",
       "15284      djyaz1200  14107522    547   \n",
       "15291  SimplyUseless  13647190    671   \n",
       "15296      kungfudoi  13309610    511   \n",
       "15297    dantiberian  13860890   1089   \n",
       "\n",
       "                                                   title  \n",
       "1908      Uber is valued at $70B, you can get it at $999  \n",
       "15284                          Jeff Bezos’ Annual Letter  \n",
       "15291       India has banned disposable plastic in Delhi  \n",
       "15296  Startup Puts Everything You Need for a Two-Acr...  \n",
       "15297                   The Uber Bombshell About to Drop  "
      ]
     },
     "execution_count": 14,
     "metadata": {},
     "output_type": "execute_result"
    }
   ],
   "source": [
    "score_gt_500 = data_frame[data_frame.score>500]\n",
    "score_gt_500 = score_gt_500[['by','id','score','title']]\n",
    "score_gt_500.head()"
   ]
  },
  {
   "cell_type": "markdown",
   "metadata": {},
   "source": [
    "###  Item (Story) - User - Signal (Comment) Lets get all the comments from the database by reviewing fifle (bycomments2017score5.csv.gz) and keep only the user and story information. Please see what problems in data and dealing with them. Show me processed data shapes (how many rows and column) and first five rows of  processed data (5%).\n",
    "\n",
    "\n"
   ]
  },
  {
   "cell_type": "markdown",
   "metadata": {},
   "source": [
    "#### Solutions"
   ]
  },
  {
   "cell_type": "code",
   "execution_count": 15,
   "metadata": {},
   "outputs": [
    {
     "data": {
      "text/plain": [
       "(450884, 2)"
      ]
     },
     "execution_count": 15,
     "metadata": {},
     "output_type": "execute_result"
    }
   ],
   "source": [
    "bycomments = pd.read_csv('C:/Akshata/Courses/summer19/large_scale_analytics/bycomments2017score5.csv.gz', compression='gzip', \n",
    "                         header=0, sep=',', quotechar='\"')\n",
    "bycomments.shape"
   ]
  },
  {
   "cell_type": "code",
   "execution_count": 16,
   "metadata": {},
   "outputs": [
    {
     "data": {
      "text/html": [
       "<div>\n",
       "<style scoped>\n",
       "    .dataframe tbody tr th:only-of-type {\n",
       "        vertical-align: middle;\n",
       "    }\n",
       "\n",
       "    .dataframe tbody tr th {\n",
       "        vertical-align: top;\n",
       "    }\n",
       "\n",
       "    .dataframe thead th {\n",
       "        text-align: right;\n",
       "    }\n",
       "</style>\n",
       "<table border=\"1\" class=\"dataframe\">\n",
       "  <thead>\n",
       "    <tr style=\"text-align: right;\">\n",
       "      <th></th>\n",
       "      <th>by</th>\n",
       "      <th>parent</th>\n",
       "    </tr>\n",
       "  </thead>\n",
       "  <tbody>\n",
       "    <tr>\n",
       "      <th>0</th>\n",
       "      <td>NaN</td>\n",
       "      <td>15332819</td>\n",
       "    </tr>\n",
       "    <tr>\n",
       "      <th>1</th>\n",
       "      <td>NaN</td>\n",
       "      <td>15361981</td>\n",
       "    </tr>\n",
       "    <tr>\n",
       "      <th>2</th>\n",
       "      <td>NaN</td>\n",
       "      <td>13939068</td>\n",
       "    </tr>\n",
       "    <tr>\n",
       "      <th>3</th>\n",
       "      <td>NaN</td>\n",
       "      <td>15773920</td>\n",
       "    </tr>\n",
       "    <tr>\n",
       "      <th>4</th>\n",
       "      <td>NaN</td>\n",
       "      <td>15824599</td>\n",
       "    </tr>\n",
       "  </tbody>\n",
       "</table>\n",
       "</div>"
      ],
      "text/plain": [
       "    by    parent\n",
       "0  NaN  15332819\n",
       "1  NaN  15361981\n",
       "2  NaN  13939068\n",
       "3  NaN  15773920\n",
       "4  NaN  15824599"
      ]
     },
     "execution_count": 16,
     "metadata": {},
     "output_type": "execute_result"
    }
   ],
   "source": [
    "bycomments.head()"
   ]
  },
  {
   "cell_type": "code",
   "execution_count": 17,
   "metadata": {},
   "outputs": [
    {
     "data": {
      "text/html": [
       "<div>\n",
       "<style scoped>\n",
       "    .dataframe tbody tr th:only-of-type {\n",
       "        vertical-align: middle;\n",
       "    }\n",
       "\n",
       "    .dataframe tbody tr th {\n",
       "        vertical-align: top;\n",
       "    }\n",
       "\n",
       "    .dataframe thead th {\n",
       "        text-align: right;\n",
       "    }\n",
       "</style>\n",
       "<table border=\"1\" class=\"dataframe\">\n",
       "  <thead>\n",
       "    <tr style=\"text-align: right;\">\n",
       "      <th></th>\n",
       "      <th>user</th>\n",
       "      <th>story</th>\n",
       "    </tr>\n",
       "  </thead>\n",
       "  <tbody>\n",
       "    <tr>\n",
       "      <th>13153</th>\n",
       "      <td>05</td>\n",
       "      <td>15878548</td>\n",
       "    </tr>\n",
       "    <tr>\n",
       "      <th>13154</th>\n",
       "      <td>0a</td>\n",
       "      <td>13850516</td>\n",
       "    </tr>\n",
       "    <tr>\n",
       "      <th>13155</th>\n",
       "      <td>1k</td>\n",
       "      <td>15783427</td>\n",
       "    </tr>\n",
       "    <tr>\n",
       "      <th>13156</th>\n",
       "      <td>1k</td>\n",
       "      <td>14602595</td>\n",
       "    </tr>\n",
       "    <tr>\n",
       "      <th>13157</th>\n",
       "      <td>21</td>\n",
       "      <td>14192353</td>\n",
       "    </tr>\n",
       "  </tbody>\n",
       "</table>\n",
       "</div>"
      ],
      "text/plain": [
       "      user     story\n",
       "13153   05  15878548\n",
       "13154   0a  13850516\n",
       "13155   1k  15783427\n",
       "13156   1k  14602595\n",
       "13157   21  14192353"
      ]
     },
     "execution_count": 17,
     "metadata": {},
     "output_type": "execute_result"
    }
   ],
   "source": [
    "bycomments.dropna(inplace = True)\n",
    "bycomments.columns = ['user', 'story']\n",
    "bycomments.head()"
   ]
  },
  {
   "cell_type": "code",
   "execution_count": 18,
   "metadata": {},
   "outputs": [
    {
     "data": {
      "text/plain": [
       "(52460, 2)"
      ]
     },
     "execution_count": 18,
     "metadata": {},
     "output_type": "execute_result"
    }
   ],
   "source": [
    "UserAndStory = bycomments[bycomments['story'].isin(score_gt_500.id)]\n",
    "UserAndStory.shape"
   ]
  },
  {
   "cell_type": "code",
   "execution_count": 19,
   "metadata": {},
   "outputs": [
    {
     "data": {
      "text/html": [
       "<div>\n",
       "<style scoped>\n",
       "    .dataframe tbody tr th:only-of-type {\n",
       "        vertical-align: middle;\n",
       "    }\n",
       "\n",
       "    .dataframe tbody tr th {\n",
       "        vertical-align: top;\n",
       "    }\n",
       "\n",
       "    .dataframe thead th {\n",
       "        text-align: right;\n",
       "    }\n",
       "</style>\n",
       "<table border=\"1\" class=\"dataframe\">\n",
       "  <thead>\n",
       "    <tr style=\"text-align: right;\">\n",
       "      <th></th>\n",
       "      <th>user</th>\n",
       "      <th>story</th>\n",
       "    </tr>\n",
       "  </thead>\n",
       "  <tbody>\n",
       "    <tr>\n",
       "      <th>13173</th>\n",
       "      <td>21</td>\n",
       "      <td>14356377</td>\n",
       "    </tr>\n",
       "    <tr>\n",
       "      <th>13181</th>\n",
       "      <td>21</td>\n",
       "      <td>15131370</td>\n",
       "    </tr>\n",
       "    <tr>\n",
       "      <th>13189</th>\n",
       "      <td>21</td>\n",
       "      <td>15196309</td>\n",
       "    </tr>\n",
       "    <tr>\n",
       "      <th>13210</th>\n",
       "      <td>47</td>\n",
       "      <td>15601729</td>\n",
       "    </tr>\n",
       "    <tr>\n",
       "      <th>13211</th>\n",
       "      <td>47</td>\n",
       "      <td>14023198</td>\n",
       "    </tr>\n",
       "  </tbody>\n",
       "</table>\n",
       "</div>"
      ],
      "text/plain": [
       "      user     story\n",
       "13173   21  14356377\n",
       "13181   21  15131370\n",
       "13189   21  15196309\n",
       "13210   47  15601729\n",
       "13211   47  14023198"
      ]
     },
     "execution_count": 19,
     "metadata": {},
     "output_type": "execute_result"
    }
   ],
   "source": [
    "UserAndStory.head()"
   ]
  },
  {
   "cell_type": "markdown",
   "metadata": {},
   "source": [
    "### Users information (10%). \n",
    "\n",
    "We need to get the details for all the users that have made comments in our list of stories.\n",
    "\n",
    "Also, we are interested in their details\n",
    "- How long have they been on the HN platform? (Created)\n",
    "- How active they are? (# of comments)?\n",
    "- How good they are to the HN community (karma)?\n",
    "\n",
    "We will need to get the User Information from HN\n",
    "\n",
    "- **Hacker News API**: Official API hosted on Firebase - https://github.com/HackerNews/API\n",
    "- **Haxor**: Unofficial HN Python API c- https://github.com/avinassh/haxor\n",
    "- **Ascynio-HN**: A very fast async Python API for HackerNews - https://github.com/itielshwartz/asyncio-hn\n",
    "\n",
    "### Think how you use API to get all uses data information. Download them and save them. Will be used later."
   ]
  },
  {
   "cell_type": "markdown",
   "metadata": {},
   "source": [
    "#### Solutions"
   ]
  },
  {
   "cell_type": "code",
   "execution_count": 31,
   "metadata": {},
   "outputs": [
    {
     "name": "stdout",
     "output_type": "stream",
     "text": [
      "{'created': 1465952019, 'id': 'voycey', 'karma': 166}\n"
     ]
    }
   ],
   "source": [
    "import requests\n",
    "import json\n",
    "\n",
    "data = {}\n",
    "def getAllUserInfo(UserAndStory): \n",
    "    for user in UserAndStory.user.unique():\n",
    "        r = requests.get(\"https://hacker-news.firebaseio.com/v0/user/\"+user+\".json?print=pretty\")\n",
    "        if r.status_code == 200:\n",
    "            temp = r.json()\n",
    "            if temp.get(\"submitted\", 0) == 0:\n",
    "                print(temp)\n",
    "            else:\n",
    "                data[user] = [temp[\"created\"], temp[\"karma\"], len(temp[\"submitted\"])]\n",
    "    \n",
    "    df = pd.DataFrame.from_dict(data,orient=\"index\")\n",
    "    df.to_csv(\"C:/Akshata/Courses/summer19/large_scale_analytics/data.csv\")\n",
    "    return\n",
    "\n",
    "getAllUserInfo(UserAndStory)"
   ]
  },
  {
   "cell_type": "markdown",
   "metadata": {},
   "source": [
    "## (30%) Feature Engineering (Data Transform)"
   ]
  },
  {
   "cell_type": "markdown",
   "metadata": {},
   "source": [
    "How do we create the user-item matrix for the HackerNews Dataset\n",
    "- OneHot Encoding\n",
    "- Sparse Matrix (for scalability)"
   ]
  },
  {
   "cell_type": "markdown",
   "metadata": {},
   "source": [
    "### What is OneHot Encoding and its purpose (5%). Could you apply OneHot to encode previous obtained story user comment data from bycomments2017score5.csv.gz ? Show encoded data previous few rows. (10%)"
   ]
  },
  {
   "cell_type": "markdown",
   "metadata": {},
   "source": [
    "#### Solutions:\n",
    "\n"
   ]
  },
  {
   "cell_type": "code",
   "execution_count": 10,
   "metadata": {},
   "outputs": [
    {
     "data": {
      "text/html": [
       "<div>\n",
       "<style scoped>\n",
       "    .dataframe tbody tr th:only-of-type {\n",
       "        vertical-align: middle;\n",
       "    }\n",
       "\n",
       "    .dataframe tbody tr th {\n",
       "        vertical-align: top;\n",
       "    }\n",
       "\n",
       "    .dataframe thead th {\n",
       "        text-align: right;\n",
       "    }\n",
       "</style>\n",
       "<table border=\"1\" class=\"dataframe\">\n",
       "  <thead>\n",
       "    <tr style=\"text-align: right;\">\n",
       "      <th></th>\n",
       "      <th>user</th>\n",
       "      <th>story</th>\n",
       "    </tr>\n",
       "  </thead>\n",
       "  <tbody>\n",
       "    <tr>\n",
       "      <th>13173</th>\n",
       "      <td>21</td>\n",
       "      <td>14356377</td>\n",
       "    </tr>\n",
       "    <tr>\n",
       "      <th>13181</th>\n",
       "      <td>21</td>\n",
       "      <td>15131370</td>\n",
       "    </tr>\n",
       "    <tr>\n",
       "      <th>13189</th>\n",
       "      <td>21</td>\n",
       "      <td>15196309</td>\n",
       "    </tr>\n",
       "    <tr>\n",
       "      <th>13210</th>\n",
       "      <td>47</td>\n",
       "      <td>15601729</td>\n",
       "    </tr>\n",
       "    <tr>\n",
       "      <th>13211</th>\n",
       "      <td>47</td>\n",
       "      <td>14023198</td>\n",
       "    </tr>\n",
       "  </tbody>\n",
       "</table>\n",
       "</div>"
      ],
      "text/plain": [
       "      user     story\n",
       "13173   21  14356377\n",
       "13181   21  15131370\n",
       "13189   21  15196309\n",
       "13210   47  15601729\n",
       "13211   47  14023198"
      ]
     },
     "execution_count": 10,
     "metadata": {},
     "output_type": "execute_result"
    }
   ],
   "source": [
    "\"\"\"\n",
    "One hot encoding is a process by which categorical variables are converted into a form that could be provided to Machine\n",
    "Learning algorithms to do a better job in prediction. We use one hot encoder to perform “binarization” of the category and\n",
    "include it as a feature to train the model.\n",
    "\"\"\"\n",
    "\n",
    "UserAndStory.head()"
   ]
  },
  {
   "cell_type": "code",
   "execution_count": 27,
   "metadata": {},
   "outputs": [
    {
     "data": {
      "text/html": [
       "<div>\n",
       "<style scoped>\n",
       "    .dataframe tbody tr th:only-of-type {\n",
       "        vertical-align: middle;\n",
       "    }\n",
       "\n",
       "    .dataframe tbody tr th {\n",
       "        vertical-align: top;\n",
       "    }\n",
       "\n",
       "    .dataframe thead th {\n",
       "        text-align: right;\n",
       "    }\n",
       "</style>\n",
       "<table border=\"1\" class=\"dataframe\">\n",
       "  <thead>\n",
       "    <tr style=\"text-align: right;\">\n",
       "      <th></th>\n",
       "      <th>0</th>\n",
       "      <th>1</th>\n",
       "      <th>2</th>\n",
       "      <th>3</th>\n",
       "      <th>4</th>\n",
       "      <th>5</th>\n",
       "      <th>6</th>\n",
       "      <th>7</th>\n",
       "      <th>8</th>\n",
       "      <th>9</th>\n",
       "      <th>...</th>\n",
       "      <th>959</th>\n",
       "      <th>960</th>\n",
       "      <th>961</th>\n",
       "      <th>962</th>\n",
       "      <th>963</th>\n",
       "      <th>964</th>\n",
       "      <th>965</th>\n",
       "      <th>966</th>\n",
       "      <th>967</th>\n",
       "      <th>968</th>\n",
       "    </tr>\n",
       "  </thead>\n",
       "  <tbody>\n",
       "    <tr>\n",
       "      <th>0</th>\n",
       "      <td>0.0</td>\n",
       "      <td>0.0</td>\n",
       "      <td>0.0</td>\n",
       "      <td>0.0</td>\n",
       "      <td>0.0</td>\n",
       "      <td>0.0</td>\n",
       "      <td>0.0</td>\n",
       "      <td>0.0</td>\n",
       "      <td>0.0</td>\n",
       "      <td>0.0</td>\n",
       "      <td>...</td>\n",
       "      <td>0.0</td>\n",
       "      <td>0.0</td>\n",
       "      <td>0.0</td>\n",
       "      <td>0.0</td>\n",
       "      <td>0.0</td>\n",
       "      <td>0.0</td>\n",
       "      <td>0.0</td>\n",
       "      <td>0.0</td>\n",
       "      <td>0.0</td>\n",
       "      <td>0.0</td>\n",
       "    </tr>\n",
       "    <tr>\n",
       "      <th>1</th>\n",
       "      <td>0.0</td>\n",
       "      <td>0.0</td>\n",
       "      <td>0.0</td>\n",
       "      <td>0.0</td>\n",
       "      <td>0.0</td>\n",
       "      <td>0.0</td>\n",
       "      <td>0.0</td>\n",
       "      <td>0.0</td>\n",
       "      <td>0.0</td>\n",
       "      <td>0.0</td>\n",
       "      <td>...</td>\n",
       "      <td>0.0</td>\n",
       "      <td>0.0</td>\n",
       "      <td>0.0</td>\n",
       "      <td>0.0</td>\n",
       "      <td>0.0</td>\n",
       "      <td>0.0</td>\n",
       "      <td>0.0</td>\n",
       "      <td>0.0</td>\n",
       "      <td>0.0</td>\n",
       "      <td>0.0</td>\n",
       "    </tr>\n",
       "    <tr>\n",
       "      <th>2</th>\n",
       "      <td>0.0</td>\n",
       "      <td>0.0</td>\n",
       "      <td>0.0</td>\n",
       "      <td>0.0</td>\n",
       "      <td>0.0</td>\n",
       "      <td>0.0</td>\n",
       "      <td>0.0</td>\n",
       "      <td>0.0</td>\n",
       "      <td>0.0</td>\n",
       "      <td>0.0</td>\n",
       "      <td>...</td>\n",
       "      <td>0.0</td>\n",
       "      <td>0.0</td>\n",
       "      <td>0.0</td>\n",
       "      <td>0.0</td>\n",
       "      <td>0.0</td>\n",
       "      <td>0.0</td>\n",
       "      <td>0.0</td>\n",
       "      <td>0.0</td>\n",
       "      <td>0.0</td>\n",
       "      <td>0.0</td>\n",
       "    </tr>\n",
       "    <tr>\n",
       "      <th>3</th>\n",
       "      <td>0.0</td>\n",
       "      <td>0.0</td>\n",
       "      <td>0.0</td>\n",
       "      <td>0.0</td>\n",
       "      <td>0.0</td>\n",
       "      <td>0.0</td>\n",
       "      <td>0.0</td>\n",
       "      <td>0.0</td>\n",
       "      <td>0.0</td>\n",
       "      <td>0.0</td>\n",
       "      <td>...</td>\n",
       "      <td>0.0</td>\n",
       "      <td>0.0</td>\n",
       "      <td>0.0</td>\n",
       "      <td>0.0</td>\n",
       "      <td>0.0</td>\n",
       "      <td>0.0</td>\n",
       "      <td>0.0</td>\n",
       "      <td>0.0</td>\n",
       "      <td>0.0</td>\n",
       "      <td>0.0</td>\n",
       "    </tr>\n",
       "    <tr>\n",
       "      <th>4</th>\n",
       "      <td>0.0</td>\n",
       "      <td>0.0</td>\n",
       "      <td>0.0</td>\n",
       "      <td>0.0</td>\n",
       "      <td>0.0</td>\n",
       "      <td>0.0</td>\n",
       "      <td>0.0</td>\n",
       "      <td>0.0</td>\n",
       "      <td>0.0</td>\n",
       "      <td>0.0</td>\n",
       "      <td>...</td>\n",
       "      <td>0.0</td>\n",
       "      <td>0.0</td>\n",
       "      <td>0.0</td>\n",
       "      <td>0.0</td>\n",
       "      <td>0.0</td>\n",
       "      <td>0.0</td>\n",
       "      <td>0.0</td>\n",
       "      <td>0.0</td>\n",
       "      <td>0.0</td>\n",
       "      <td>0.0</td>\n",
       "    </tr>\n",
       "  </tbody>\n",
       "</table>\n",
       "<p>5 rows × 969 columns</p>\n",
       "</div>"
      ],
      "text/plain": [
       "   0    1    2    3    4    5    6    7    8    9   ...   959  960  961  962  \\\n",
       "0  0.0  0.0  0.0  0.0  0.0  0.0  0.0  0.0  0.0  0.0 ...   0.0  0.0  0.0  0.0   \n",
       "1  0.0  0.0  0.0  0.0  0.0  0.0  0.0  0.0  0.0  0.0 ...   0.0  0.0  0.0  0.0   \n",
       "2  0.0  0.0  0.0  0.0  0.0  0.0  0.0  0.0  0.0  0.0 ...   0.0  0.0  0.0  0.0   \n",
       "3  0.0  0.0  0.0  0.0  0.0  0.0  0.0  0.0  0.0  0.0 ...   0.0  0.0  0.0  0.0   \n",
       "4  0.0  0.0  0.0  0.0  0.0  0.0  0.0  0.0  0.0  0.0 ...   0.0  0.0  0.0  0.0   \n",
       "\n",
       "   963  964  965  966  967  968  \n",
       "0  0.0  0.0  0.0  0.0  0.0  0.0  \n",
       "1  0.0  0.0  0.0  0.0  0.0  0.0  \n",
       "2  0.0  0.0  0.0  0.0  0.0  0.0  \n",
       "3  0.0  0.0  0.0  0.0  0.0  0.0  \n",
       "4  0.0  0.0  0.0  0.0  0.0  0.0  \n",
       "\n",
       "[5 rows x 969 columns]"
      ]
     },
     "execution_count": 27,
     "metadata": {},
     "output_type": "execute_result"
    }
   ],
   "source": [
    "from sklearn.preprocessing import LabelEncoder\n",
    "from sklearn.preprocessing import OneHotEncoder\n",
    "def oneHotEncoding(UserAndStory):\n",
    "    #data = {}\n",
    "    pd.options.mode.chained_assignment = None  # default='warn'\n",
    "\n",
    "    label_story = LabelEncoder()\n",
    "    UserAndStory['label_story'] = label_story.fit_transform(UserAndStory.story)\n",
    "    \n",
    "    enc = OneHotEncoder(handle_unknown='ignore', sparse=False)\n",
    "    data = enc.fit_transform(UserAndStory.label_story.values.reshape(-1,1))\n",
    "    dataFrame = pd.DataFrame(data)\n",
    "    return dataFrame\n",
    "\n",
    "UserAndStory_cp = UserAndStory.copy()\n",
    "data = oneHotEncoding(UserAndStory_cp)\n",
    "data.head()\n",
    "\n",
    "#UserAndStory.head()"
   ]
  },
  {
   "cell_type": "markdown",
   "metadata": {},
   "source": [
    "### Could you what is Coordinate list (COO) compression format for sparse matrix generation (5%)\n",
    "### Implment this to compress previous obtained story user comment data from bycomments2017score5.csv.gz (10%)."
   ]
  },
  {
   "cell_type": "markdown",
   "metadata": {},
   "source": [
    "#### Solutions\n",
    "\n"
   ]
  },
  {
   "cell_type": "code",
   "execution_count": 1,
   "metadata": {},
   "outputs": [
    {
     "data": {
      "text/plain": [
       "'\\nCoordinate list format(COO) stores data as a list of tuple with three elements as follows (the tuple is present only for\\nnon-zero elements)-\\n1st element -> row index\\n2nd element -> column index\\n3rd element -> value to be stored in the row and column\\n\\nAdvantages: * We can construct the sparse matrix fast\\n            * We can convert the COO sparse matrix to other sparse matrix formats like Compressed Sparse Row matrix (CSR) and\\n              Compressed Sparse Column matrix (CSC).\\n'"
      ]
     },
     "execution_count": 1,
     "metadata": {},
     "output_type": "execute_result"
    }
   ],
   "source": [
    "\"\"\"\n",
    "Coordinate list format(COO) stores data as a list of tuple with three elements as follows (the tuple is present only for\n",
    "non-zero elements)-\n",
    "1st element -> row index\n",
    "2nd element -> column index\n",
    "3rd element -> value to be stored in the row and column\n",
    "\n",
    "Advantages: * We can construct the sparse matrix fast\n",
    "            * We can convert the COO sparse matrix to other sparse matrix formats like Compressed Sparse Row matrix (CSR) and\n",
    "              Compressed Sparse Column matrix (CSC).\n",
    "\"\"\""
   ]
  },
  {
   "cell_type": "code",
   "execution_count": 28,
   "metadata": {},
   "outputs": [
    {
     "name": "stdout",
     "output_type": "stream",
     "text": [
      "  (0, 409)\t1.0\n",
      "  (1, 678)\t1.0\n",
      "  (2, 700)\t1.0\n",
      "  (3, 847)\t1.0\n",
      "  (4, 284)\t1.0\n",
      "  (5, 363)\t1.0\n",
      "  (6, 771)\t1.0\n",
      "  (7, 571)\t1.0\n",
      "  (8, 610)\t1.0\n",
      "  (9, 644)\t1.0\n",
      "  (10, 744)\t1.0\n",
      "  (11, 900)\t1.0\n",
      "  (12, 149)\t1.0\n",
      "  (13, 552)\t1.0\n",
      "  (14, 803)\t1.0\n",
      "  (15, 435)\t1.0\n",
      "  (16, 555)\t1.0\n",
      "  (17, 826)\t1.0\n",
      "  (18, 281)\t1.0\n",
      "  (19, 198)\t1.0\n",
      "  (20, 422)\t1.0\n",
      "  (21, 533)\t1.0\n",
      "  (22, 572)\t1.0\n",
      "  (23, 851)\t1.0\n",
      "  (24, 434)\t1.0\n",
      "  :\t:\n",
      "  (52435, 712)\t1.0\n",
      "  (52436, 683)\t1.0\n",
      "  (52437, 644)\t1.0\n",
      "  (52438, 507)\t1.0\n",
      "  (52439, 434)\t1.0\n",
      "  (52440, 221)\t1.0\n",
      "  (52441, 121)\t1.0\n",
      "  (52442, 946)\t1.0\n",
      "  (52443, 593)\t1.0\n",
      "  (52444, 119)\t1.0\n",
      "  (52445, 329)\t1.0\n",
      "  (52446, 219)\t1.0\n",
      "  (52447, 715)\t1.0\n",
      "  (52448, 910)\t1.0\n",
      "  (52449, 739)\t1.0\n",
      "  (52450, 840)\t1.0\n",
      "  (52451, 668)\t1.0\n",
      "  (52452, 702)\t1.0\n",
      "  (52453, 653)\t1.0\n",
      "  (52454, 681)\t1.0\n",
      "  (52455, 694)\t1.0\n",
      "  (52456, 226)\t1.0\n",
      "  (52457, 29)\t1.0\n",
      "  (52458, 706)\t1.0\n",
      "  (52459, 838)\t1.0\n"
     ]
    }
   ],
   "source": [
    "from sklearn.preprocessing import LabelEncoder\n",
    "from sklearn.preprocessing import OneHotEncoder\n",
    "def oneHotEncoding_Sparse(UserAndStory):\n",
    "    pd.options.mode.chained_assignment = None  # default='warn'\n",
    "\n",
    "    label_story = LabelEncoder()\n",
    "    UserAndStory['label_story'] = label_story.fit_transform(UserAndStory.story)\n",
    "    \n",
    "    enc = OneHotEncoder(handle_unknown='ignore', sparse=True)\n",
    "    data = enc.fit_transform(UserAndStory.label_story.values.reshape(-1,1))\n",
    "    #dataFrame = pd.DataFrame(data)\n",
    "    return data\n",
    "\n",
    "UserAndStory_cp = UserAndStory.copy()\n",
    "data = oneHotEncoding_Sparse(UserAndStory_cp)\n",
    "print(data)"
   ]
  },
  {
   "cell_type": "code",
   "execution_count": null,
   "metadata": {},
   "outputs": [],
   "source": []
  }
 ],
 "metadata": {
  "anaconda-cloud": {},
  "kernelspec": {
   "display_name": "Python 3",
   "language": "python",
   "name": "python3"
  },
  "language_info": {
   "codemirror_mode": {
    "name": "ipython",
    "version": 3
   },
   "file_extension": ".py",
   "mimetype": "text/x-python",
   "name": "python",
   "nbconvert_exporter": "python",
   "pygments_lexer": "ipython3",
   "version": "3.7.1"
  }
 },
 "nbformat": 4,
 "nbformat_minor": 2
}
